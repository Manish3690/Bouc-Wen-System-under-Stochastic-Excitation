{
 "cells": [
  {
   "cell_type": "code",
   "execution_count": 1,
   "metadata": {},
   "outputs": [],
   "source": [
    "from sklearn.preprocessing import MinMaxScaler, StandardScaler\n",
    "from keras.models import Sequential\n",
    "from keras.layers import LSTM, Dense, Activation, Dropout\n",
    "from keras.optimizers import Adam, RMSprop\n",
    "from sklearn.model_selection import train_test_split\n",
    "import numpy as np\n",
    "import pandas as pd"
   ]
  },
  {
   "cell_type": "code",
   "execution_count": 2,
   "metadata": {},
   "outputs": [],
   "source": [
    "# Read the CSV file into a DataFrame\n",
    "df = pd.read_csv(\"Excitation.csv\")\n",
    "\n",
    "# Drop the first column (assuming it's the first column by index)\n",
    "df_dropped = df.drop(df.columns[0], axis=1)\n",
    "\n",
    "# Convert the DataFrame to a NumPy array\n",
    "force_array = np.array(df_dropped).T"
   ]
  },
  {
   "cell_type": "code",
   "execution_count": 3,
   "metadata": {},
   "outputs": [
    {
     "data": {
      "text/plain": [
       "array([[ 1.49014246, -0.4147929 ,  1.94306561, ..., -0.57101603,\n",
       "        -2.62685476, -4.14839919],\n",
       "       [ 2.77853264,  5.72824992, -4.19570272, ...,  1.92252858,\n",
       "        -1.71353697,  1.71774834],\n",
       "       [ 4.19806631,  2.77390105,  0.17889111, ...,  3.62509869,\n",
       "         3.07218758,  1.77758085],\n",
       "       ...,\n",
       "       [ 0.06212605, -3.20618086, -0.41675141, ...,  0.63019084,\n",
       "         0.616964  ,  1.61468794],\n",
       "       [-2.01412056, -2.1413984 ,  4.2762178 , ...,  3.62332948,\n",
       "        -3.16991464,  2.23638436],\n",
       "       [ 0.17047219,  0.4997595 ,  1.87686869, ...,  2.90333658,\n",
       "         1.87107963,  0.04675372]])"
      ]
     },
     "execution_count": 3,
     "metadata": {},
     "output_type": "execute_result"
    }
   ],
   "source": [
    "force_array"
   ]
  },
  {
   "cell_type": "code",
   "execution_count": 4,
   "metadata": {},
   "outputs": [],
   "source": [
    "df = pd.read_csv(\"Displacement.csv\")\n",
    "\n",
    "# Drop the first column (assuming it's the first column by index)\n",
    "df_dropped = df.drop(df.columns[0], axis=1)\n",
    "\n",
    "# Convert the DataFrame to a NumPy array\n",
    "displacement_array = np.array(df_dropped).T"
   ]
  },
  {
   "cell_type": "code",
   "execution_count": 5,
   "metadata": {},
   "outputs": [],
   "source": [
    "\n",
    "# X_train, X_val, y_train, y_val = train_test_split(X_temp, y_temp, test_size=0.25, random_state=42)"
   ]
  },
  {
   "cell_type": "code",
   "execution_count": 6,
   "metadata": {},
   "outputs": [],
   "source": [
    "\n",
    "\n",
    "# Scale data\n",
    "scaler_X = MinMaxScaler(feature_range=(-1, 1))\n",
    "scaler_y = MinMaxScaler(feature_range=(-1, 1))\n",
    "\n",
    "\n",
    "\n",
    "# Flatten for scaling\n",
    "X_flattened = force_array.reshape(-1, 1)  \n",
    "y_flattened = displacement_array.reshape(-1, 1)  \n",
    "\n",
    "scaler_X.fit(X_flattened)\n",
    "scaler_y.fit(y_flattened)\n",
    "\n",
    "# Scale the data\n",
    "X_scaled = scaler_X.transform(X_flattened)  # Shape: (25000, 1)\n",
    "y_scaled = scaler_y.transform(y_flattened)  # Shape: (25000, 1)\n",
    "\n",
    "# Reshape back to original dimensions\n",
    "X_scaled = X_scaled.reshape(force_array.shape)  \n",
    "y_scaled = y_scaled.reshape(displacement_array.shape)  \n",
    "\n"
   ]
  },
  {
   "cell_type": "code",
   "execution_count": 7,
   "metadata": {},
   "outputs": [
    {
     "name": "stdout",
     "output_type": "stream",
     "text": [
      "(50, 500) (50, 500)\n"
     ]
    }
   ],
   "source": [
    "print(X_scaled.shape, y_scaled.shape)"
   ]
  },
  {
   "cell_type": "code",
   "execution_count": 8,
   "metadata": {},
   "outputs": [],
   "source": [
    "X_train, X_test, y_train, y_test = train_test_split(X_scaled,y_scaled, test_size=0.2, random_state=42)\n",
    "# X_train, X_val, y_train, y_val = train_test_split(X_scaled,y_scaled, test_size=0.2, random_state=42)"
   ]
  },
  {
   "cell_type": "code",
   "execution_count": 9,
   "metadata": {},
   "outputs": [],
   "source": [
    "def create_sequences(force_data,disp_data, window_size):\n",
    "    X = []\n",
    "    y = []\n",
    "    for i in range(force_data.shape[0]):\n",
    "        for j in range(force_data.shape[1] - window_size):\n",
    "            X.append(force_data[i, j:j + window_size]) # first 30, tyo paxi arko 30 \n",
    "            y.append(disp_data[i, j + window_size]) # 30 th \n",
    "    return np.array(X), np.array(y)"
   ]
  },
  {
   "cell_type": "code",
   "execution_count": 10,
   "metadata": {},
   "outputs": [],
   "source": [
    "# def create_sequences(X_data0, y_data0, window_size):\n",
    "#     X_new_temp = []\n",
    "#     y_new_temp = []\n",
    "#     for ii in range(len(X_data0)):\n",
    "#         X_temp = X_data0[ii]\n",
    "#         y_temp = y_data0[ii]\n",
    "#         X_new = []\n",
    "#         y_new = []\n",
    "#         for jj in range(int(np.floor(len(X_temp) / window_size))):\n",
    "#             X_new.append(X_temp[jj * window_size:(jj + 1) * window_size])\n",
    "#             y_new.append(y_temp[(jj + 1) * window_size - 1])\n",
    "#             # y_new.append(y_temp[(jj + 1) * window_size - 1])\n",
    "\n",
    "#         X_new_temp.append(np.array(X_new))\n",
    "#         y_new_temp.append(np.array(y_new))\n",
    "\n",
    "#     X_data_new0 = np.array(X_new_temp)\n",
    "#     y_data_new0 = np.array(y_new_temp)\n",
    "\n",
    "#     return X_data_new0, y_data_new0"
   ]
  },
  {
   "cell_type": "code",
   "execution_count": 11,
   "metadata": {},
   "outputs": [],
   "source": [
    "window_size = 100  # Example window size\n",
    "X_train_LSTM, y_train_LSTM = create_sequences(X_train, y_train, window_size)\n",
    "# X_val_LSTM, y_val_LSTM = create_sequences(X_val, y_val, window_size)\n",
    "X_test_LSTM, y_test_LSTM = create_sequences(X_test, y_test, window_size)\n",
    "y_train_LSTM = y_train_LSTM.reshape(-1, 1)  # Ensure y has the correct shape\n",
    "# y_val_LSTM = y_val_LSTM.reshape(-1, 1)  # Ensure y has the correct shape\n",
    "y_test_LSTM = y_test_LSTM.reshape(-1, 1)  # Ensure y has the correct shape"
   ]
  },
  {
   "cell_type": "code",
   "execution_count": 12,
   "metadata": {},
   "outputs": [
    {
     "data": {
      "text/plain": [
       "(4000, 1)"
      ]
     },
     "execution_count": 12,
     "metadata": {},
     "output_type": "execute_result"
    }
   ],
   "source": [
    "y_test_LSTM.shape"
   ]
  },
  {
   "cell_type": "code",
   "execution_count": 13,
   "metadata": {},
   "outputs": [
    {
     "data": {
      "text/plain": [
       "(16000, 1)"
      ]
     },
     "execution_count": 13,
     "metadata": {},
     "output_type": "execute_result"
    }
   ],
   "source": [
    "y_train_LSTM.shape"
   ]
  },
  {
   "cell_type": "code",
   "execution_count": 14,
   "metadata": {},
   "outputs": [
    {
     "data": {
      "text/plain": [
       "(16000, 100)"
      ]
     },
     "execution_count": 14,
     "metadata": {},
     "output_type": "execute_result"
    }
   ],
   "source": [
    "X_train_LSTM.shape"
   ]
  },
  {
   "cell_type": "code",
   "execution_count": 15,
   "metadata": {},
   "outputs": [],
   "source": [
    "X_train_LSTM = X_train_LSTM.reshape((X_train_LSTM.shape[0], X_train_LSTM.shape[1], 1))"
   ]
  },
  {
   "cell_type": "code",
   "execution_count": 16,
   "metadata": {},
   "outputs": [],
   "source": [
    "# X_val_LSTM = X_val_LSTM.reshape((X_val_LSTM.shape[0], X_val_LSTM.shape[1], 1))"
   ]
  },
  {
   "cell_type": "code",
   "execution_count": 17,
   "metadata": {},
   "outputs": [],
   "source": [
    "from keras.regularizers import l1, l2\n",
    "# Define the RMSprop optimizer\n",
    "# rmsprop = RMSprop(learning_rate=0.001)\n",
    "def create_model():\n",
    "    model = Sequential()\n",
    "    model.add(LSTM(100, return_sequences=True, input_shape=(X_train_LSTM.shape[1],X_train_LSTM.shape[2]), kernel_regularizer=l2(0.01)))\n",
    "    model.add(Activation('relu'))\n",
    "    model.add(Dropout(0.2))\n",
    "    model.add(LSTM(100, return_sequences=True,kernel_regularizer=l2(0.01)))\n",
    "    model.add(Activation('relu'))\n",
    "    # model.add(Dropout(0.2))\n",
    "    # model.add(Dense(100))\n",
    "    # model.add(Activation('relu'))\n",
    "    model.add(Dense(1))\n",
    "    model.compile(loss='mean_squared_error', optimizer='adam', metrics=['mse'])\n",
    "    return model"
   ]
  },
  {
   "cell_type": "code",
   "execution_count": 18,
   "metadata": {},
   "outputs": [
    {
     "name": "stdout",
     "output_type": "stream",
     "text": [
      "Model: \"sequential\"\n",
      "_________________________________________________________________\n",
      " Layer (type)                Output Shape              Param #   \n",
      "=================================================================\n",
      " lstm (LSTM)                 (None, 100, 100)          40800     \n",
      "                                                                 \n",
      " activation (Activation)     (None, 100, 100)          0         \n",
      "                                                                 \n",
      " dropout (Dropout)           (None, 100, 100)          0         \n",
      "                                                                 \n",
      " lstm_1 (LSTM)               (None, 100, 100)          80400     \n",
      "                                                                 \n",
      " activation_1 (Activation)   (None, 100, 100)          0         \n",
      "                                                                 \n",
      " dense (Dense)               (None, 100, 1)            101       \n",
      "                                                                 \n",
      "=================================================================\n",
      "Total params: 121301 (473.83 KB)\n",
      "Trainable params: 121301 (473.83 KB)\n",
      "Non-trainable params: 0 (0.00 Byte)\n",
      "_________________________________________________________________\n"
     ]
    }
   ],
   "source": [
    "model = create_model()\n",
    "model.summary()"
   ]
  },
  {
   "cell_type": "code",
   "execution_count": 19,
   "metadata": {},
   "outputs": [],
   "source": [
    "from keras.callbacks import ModelCheckpoint, EarlyStopping\n",
    "# Define the callbacks\n",
    "checkpoint = ModelCheckpoint('best_model_window1.h5', monitor='val_loss', save_best_only=True, mode='min', verbose=1)\n",
    "early_stopping = EarlyStopping(monitor='val_loss', patience=10, mode='min')"
   ]
  },
  {
   "cell_type": "code",
   "execution_count": 20,
   "metadata": {},
   "outputs": [],
   "source": [
    "# from sklearn.model_selection import KFold\n",
    "\n",
    "# kf = KFold(n_splits=5, shuffle=True, random_state=1)\n",
    "# for train_index, val_index in kf.split(X_train_LSTM):\n",
    "#     X_train, X_val = X_train_LSTM[train_index], X_train_LSTM[val_index]\n",
    "#     y_train, y_val = y_train_LSTM[train_index], y_train_LSTM[val_index]\n",
    "# y_val.shape"
   ]
  },
  {
   "cell_type": "code",
   "execution_count": 22,
   "metadata": {},
   "outputs": [
    {
     "name": "stdout",
     "output_type": "stream",
     "text": [
      "Epoch 1/50\n",
      "400/400 [==============================] - ETA: 0s - loss: 0.1944 - mse: 0.0640\n",
      "Epoch 1: val_loss improved from inf to 0.06032, saving model to best_model_window1.h5\n",
      "400/400 [==============================] - 35s 81ms/step - loss: 0.1944 - mse: 0.0640 - val_loss: 0.0603 - val_mse: 0.0573\n",
      "Epoch 2/50\n",
      "  2/400 [..............................] - ETA: 28s - loss: 0.0592 - mse: 0.0562"
     ]
    },
    {
     "name": "stderr",
     "output_type": "stream",
     "text": [
      "C:\\Users\\acer\\AppData\\Local\\Packages\\PythonSoftwareFoundation.Python.3.9_qbz5n2kfra8p0\\LocalCache\\local-packages\\Python39\\site-packages\\keras\\src\\engine\\training.py:3000: UserWarning: You are saving your model as an HDF5 file via `model.save()`. This file format is considered legacy. We recommend using instead the native Keras format, e.g. `model.save('my_model.keras')`.\n",
      "  saving_api.save_model(\n"
     ]
    },
    {
     "name": "stdout",
     "output_type": "stream",
     "text": [
      "400/400 [==============================] - ETA: 0s - loss: 0.0645 - mse: 0.0617\n",
      "Epoch 2: val_loss improved from 0.06032 to 0.05854, saving model to best_model_window1.h5\n",
      "400/400 [==============================] - 31s 77ms/step - loss: 0.0645 - mse: 0.0617 - val_loss: 0.0585 - val_mse: 0.0560\n",
      "Epoch 3/50\n",
      "400/400 [==============================] - ETA: 0s - loss: 0.0638 - mse: 0.0613\n",
      "Epoch 3: val_loss did not improve from 0.05854\n",
      "400/400 [==============================] - 31s 77ms/step - loss: 0.0638 - mse: 0.0613 - val_loss: 0.0631 - val_mse: 0.0611\n",
      "Epoch 4/50\n",
      "400/400 [==============================] - ETA: 0s - loss: 0.0628 - mse: 0.0606\n",
      "Epoch 4: val_loss did not improve from 0.05854\n",
      "400/400 [==============================] - 31s 77ms/step - loss: 0.0628 - mse: 0.0606 - val_loss: 0.0596 - val_mse: 0.0576\n",
      "Epoch 5/50\n",
      "400/400 [==============================] - ETA: 0s - loss: 0.0631 - mse: 0.0609\n",
      "Epoch 5: val_loss did not improve from 0.05854\n",
      "400/400 [==============================] - 30s 76ms/step - loss: 0.0631 - mse: 0.0609 - val_loss: 0.0592 - val_mse: 0.0570\n",
      "Epoch 6/50\n",
      "400/400 [==============================] - ETA: 0s - loss: 0.0621 - mse: 0.0599\n",
      "Epoch 6: val_loss did not improve from 0.05854\n",
      "400/400 [==============================] - 31s 76ms/step - loss: 0.0621 - mse: 0.0599 - val_loss: 0.0599 - val_mse: 0.0580\n",
      "Epoch 7/50\n",
      "400/400 [==============================] - ETA: 0s - loss: 0.0622 - mse: 0.0602\n",
      "Epoch 7: val_loss did not improve from 0.05854\n",
      "400/400 [==============================] - 31s 77ms/step - loss: 0.0622 - mse: 0.0602 - val_loss: 0.0602 - val_mse: 0.0584\n",
      "Epoch 8/50\n",
      "400/400 [==============================] - ETA: 0s - loss: 0.0629 - mse: 0.0608\n",
      "Epoch 8: val_loss did not improve from 0.05854\n",
      "400/400 [==============================] - 31s 78ms/step - loss: 0.0629 - mse: 0.0608 - val_loss: 0.0635 - val_mse: 0.0614\n",
      "Epoch 9/50\n",
      "400/400 [==============================] - ETA: 0s - loss: 0.0623 - mse: 0.0604\n",
      "Epoch 9: val_loss improved from 0.05854 to 0.05709, saving model to best_model_window1.h5\n",
      "400/400 [==============================] - 31s 78ms/step - loss: 0.0623 - mse: 0.0604 - val_loss: 0.0571 - val_mse: 0.0552\n",
      "Epoch 10/50\n",
      "400/400 [==============================] - ETA: 0s - loss: 0.0616 - mse: 0.0598\n",
      "Epoch 10: val_loss did not improve from 0.05709\n",
      "400/400 [==============================] - 31s 78ms/step - loss: 0.0616 - mse: 0.0598 - val_loss: 0.0574 - val_mse: 0.0556\n",
      "Epoch 11/50\n",
      "400/400 [==============================] - ETA: 0s - loss: 0.0614 - mse: 0.0597\n",
      "Epoch 11: val_loss did not improve from 0.05709\n",
      "400/400 [==============================] - 31s 77ms/step - loss: 0.0614 - mse: 0.0597 - val_loss: 0.0587 - val_mse: 0.0571\n",
      "Epoch 12/50\n",
      "400/400 [==============================] - ETA: 0s - loss: 0.0618 - mse: 0.0601\n",
      "Epoch 12: val_loss improved from 0.05709 to 0.05605, saving model to best_model_window1.h5\n",
      "400/400 [==============================] - 31s 77ms/step - loss: 0.0618 - mse: 0.0601 - val_loss: 0.0561 - val_mse: 0.0544\n",
      "Epoch 13/50\n",
      "400/400 [==============================] - ETA: 0s - loss: 0.0614 - mse: 0.0598\n",
      "Epoch 13: val_loss did not improve from 0.05605\n",
      "400/400 [==============================] - 31s 78ms/step - loss: 0.0614 - mse: 0.0598 - val_loss: 0.0586 - val_mse: 0.0570\n",
      "Epoch 14/50\n",
      "400/400 [==============================] - ETA: 0s - loss: 0.0610 - mse: 0.0595\n",
      "Epoch 14: val_loss did not improve from 0.05605\n",
      "400/400 [==============================] - 31s 78ms/step - loss: 0.0610 - mse: 0.0595 - val_loss: 0.0568 - val_mse: 0.0552\n",
      "Epoch 15/50\n",
      "400/400 [==============================] - ETA: 0s - loss: 0.0610 - mse: 0.0595\n",
      "Epoch 15: val_loss did not improve from 0.05605\n",
      "400/400 [==============================] - 31s 78ms/step - loss: 0.0610 - mse: 0.0595 - val_loss: 0.0581 - val_mse: 0.0565\n",
      "Epoch 16/50\n",
      "400/400 [==============================] - ETA: 0s - loss: 0.0610 - mse: 0.0595\n",
      "Epoch 16: val_loss did not improve from 0.05605\n",
      "400/400 [==============================] - 31s 78ms/step - loss: 0.0610 - mse: 0.0595 - val_loss: 0.0590 - val_mse: 0.0576\n",
      "Epoch 17/50\n",
      "400/400 [==============================] - ETA: 0s - loss: 0.0608 - mse: 0.0594\n",
      "Epoch 17: val_loss improved from 0.05605 to 0.05585, saving model to best_model_window1.h5\n",
      "400/400 [==============================] - 31s 78ms/step - loss: 0.0608 - mse: 0.0594 - val_loss: 0.0559 - val_mse: 0.0544\n",
      "Epoch 18/50\n",
      "400/400 [==============================] - ETA: 0s - loss: 0.0607 - mse: 0.0593\n",
      "Epoch 18: val_loss did not improve from 0.05585\n",
      "400/400 [==============================] - 32s 80ms/step - loss: 0.0607 - mse: 0.0593 - val_loss: 0.0580 - val_mse: 0.0566\n",
      "Epoch 19/50\n",
      "400/400 [==============================] - ETA: 0s - loss: 0.0607 - mse: 0.0594\n",
      "Epoch 19: val_loss did not improve from 0.05585\n",
      "400/400 [==============================] - 31s 78ms/step - loss: 0.0607 - mse: 0.0594 - val_loss: 0.0598 - val_mse: 0.0585\n",
      "Epoch 20/50\n",
      "400/400 [==============================] - ETA: 0s - loss: 0.0608 - mse: 0.0594\n",
      "Epoch 20: val_loss did not improve from 0.05585\n",
      "400/400 [==============================] - 31s 78ms/step - loss: 0.0608 - mse: 0.0594 - val_loss: 0.0566 - val_mse: 0.0552\n",
      "Epoch 21/50\n",
      "400/400 [==============================] - ETA: 0s - loss: 0.0607 - mse: 0.0593\n",
      "Epoch 21: val_loss did not improve from 0.05585\n",
      "400/400 [==============================] - 31s 78ms/step - loss: 0.0607 - mse: 0.0593 - val_loss: 0.0570 - val_mse: 0.0556\n",
      "Epoch 22/50\n",
      "400/400 [==============================] - ETA: 0s - loss: 0.0610 - mse: 0.0596\n",
      "Epoch 22: val_loss did not improve from 0.05585\n",
      "400/400 [==============================] - 31s 79ms/step - loss: 0.0610 - mse: 0.0596 - val_loss: 0.0565 - val_mse: 0.0550\n",
      "Epoch 23/50\n",
      "400/400 [==============================] - ETA: 0s - loss: 0.0604 - mse: 0.0590\n",
      "Epoch 23: val_loss did not improve from 0.05585\n",
      "400/400 [==============================] - 31s 78ms/step - loss: 0.0604 - mse: 0.0590 - val_loss: 0.0563 - val_mse: 0.0550\n",
      "Epoch 24/50\n",
      "400/400 [==============================] - ETA: 0s - loss: 0.0602 - mse: 0.0589\n",
      "Epoch 24: val_loss did not improve from 0.05585\n",
      "400/400 [==============================] - 31s 79ms/step - loss: 0.0602 - mse: 0.0589 - val_loss: 0.0564 - val_mse: 0.0552\n",
      "Epoch 25/50\n",
      "400/400 [==============================] - ETA: 0s - loss: 0.0603 - mse: 0.0591\n",
      "Epoch 25: val_loss did not improve from 0.05585\n",
      "400/400 [==============================] - 31s 78ms/step - loss: 0.0603 - mse: 0.0591 - val_loss: 0.0562 - val_mse: 0.0550\n",
      "Epoch 26/50\n",
      "400/400 [==============================] - ETA: 0s - loss: 0.0603 - mse: 0.0591\n",
      "Epoch 26: val_loss did not improve from 0.05585\n",
      "400/400 [==============================] - 31s 78ms/step - loss: 0.0603 - mse: 0.0591 - val_loss: 0.0566 - val_mse: 0.0555\n",
      "Epoch 27/50\n",
      "400/400 [==============================] - ETA: 0s - loss: 0.0602 - mse: 0.0591\n",
      "Epoch 27: val_loss improved from 0.05585 to 0.05555, saving model to best_model_window1.h5\n",
      "400/400 [==============================] - 31s 79ms/step - loss: 0.0602 - mse: 0.0591 - val_loss: 0.0556 - val_mse: 0.0544\n",
      "Epoch 28/50\n",
      "400/400 [==============================] - ETA: 0s - loss: 0.0600 - mse: 0.0589\n",
      "Epoch 28: val_loss did not improve from 0.05555\n",
      "400/400 [==============================] - 32s 80ms/step - loss: 0.0600 - mse: 0.0589 - val_loss: 0.0558 - val_mse: 0.0548\n",
      "Epoch 29/50\n",
      "400/400 [==============================] - ETA: 0s - loss: 0.0600 - mse: 0.0589\n",
      "Epoch 29: val_loss did not improve from 0.05555\n",
      "400/400 [==============================] - 32s 79ms/step - loss: 0.0600 - mse: 0.0589 - val_loss: 0.0556 - val_mse: 0.0545\n",
      "Epoch 30/50\n",
      "400/400 [==============================] - ETA: 0s - loss: 0.0604 - mse: 0.0593\n",
      "Epoch 30: val_loss did not improve from 0.05555\n",
      "400/400 [==============================] - 31s 78ms/step - loss: 0.0604 - mse: 0.0593 - val_loss: 0.0587 - val_mse: 0.0576\n",
      "Epoch 31/50\n",
      "400/400 [==============================] - ETA: 0s - loss: 0.0600 - mse: 0.0589\n",
      "Epoch 31: val_loss did not improve from 0.05555\n",
      "400/400 [==============================] - 31s 78ms/step - loss: 0.0600 - mse: 0.0589 - val_loss: 0.0567 - val_mse: 0.0555\n",
      "Epoch 32/50\n",
      "400/400 [==============================] - ETA: 0s - loss: 0.0602 - mse: 0.0591\n",
      "Epoch 32: val_loss improved from 0.05555 to 0.05540, saving model to best_model_window1.h5\n",
      "400/400 [==============================] - 31s 79ms/step - loss: 0.0602 - mse: 0.0591 - val_loss: 0.0554 - val_mse: 0.0543\n",
      "Epoch 33/50\n",
      "400/400 [==============================] - ETA: 0s - loss: 0.0600 - mse: 0.0589\n",
      "Epoch 33: val_loss did not improve from 0.05540\n",
      "400/400 [==============================] - 31s 78ms/step - loss: 0.0600 - mse: 0.0589 - val_loss: 0.0559 - val_mse: 0.0548\n",
      "Epoch 34/50\n",
      "400/400 [==============================] - ETA: 0s - loss: 0.0605 - mse: 0.0594\n",
      "Epoch 34: val_loss did not improve from 0.05540\n",
      "400/400 [==============================] - 31s 78ms/step - loss: 0.0605 - mse: 0.0594 - val_loss: 0.0601 - val_mse: 0.0589\n",
      "Epoch 35/50\n",
      "400/400 [==============================] - ETA: 0s - loss: 0.0600 - mse: 0.0589\n",
      "Epoch 35: val_loss did not improve from 0.05540\n",
      "400/400 [==============================] - 31s 78ms/step - loss: 0.0600 - mse: 0.0589 - val_loss: 0.0566 - val_mse: 0.0555\n",
      "Epoch 36/50\n",
      "400/400 [==============================] - ETA: 0s - loss: 0.0601 - mse: 0.0590\n",
      "Epoch 36: val_loss did not improve from 0.05540\n",
      "400/400 [==============================] - 31s 78ms/step - loss: 0.0601 - mse: 0.0590 - val_loss: 0.0573 - val_mse: 0.0562\n",
      "Epoch 37/50\n",
      "400/400 [==============================] - ETA: 0s - loss: 0.0599 - mse: 0.0588\n",
      "Epoch 37: val_loss did not improve from 0.05540\n",
      "400/400 [==============================] - 31s 79ms/step - loss: 0.0599 - mse: 0.0588 - val_loss: 0.0571 - val_mse: 0.0560\n",
      "Epoch 38/50\n",
      "400/400 [==============================] - ETA: 0s - loss: 0.0604 - mse: 0.0593\n",
      "Epoch 38: val_loss did not improve from 0.05540\n",
      "400/400 [==============================] - 31s 79ms/step - loss: 0.0604 - mse: 0.0593 - val_loss: 0.0570 - val_mse: 0.0559\n",
      "Epoch 39/50\n",
      "400/400 [==============================] - ETA: 0s - loss: 0.0603 - mse: 0.0592\n",
      "Epoch 39: val_loss did not improve from 0.05540\n",
      "400/400 [==============================] - 31s 79ms/step - loss: 0.0603 - mse: 0.0592 - val_loss: 0.0572 - val_mse: 0.0562\n",
      "Epoch 40/50\n",
      "400/400 [==============================] - ETA: 0s - loss: 0.0599 - mse: 0.0588\n",
      "Epoch 40: val_loss improved from 0.05540 to 0.05536, saving model to best_model_window1.h5\n",
      "400/400 [==============================] - 32s 79ms/step - loss: 0.0599 - mse: 0.0588 - val_loss: 0.0554 - val_mse: 0.0543\n",
      "Epoch 41/50\n",
      "400/400 [==============================] - ETA: 0s - loss: 0.0600 - mse: 0.0589\n",
      "Epoch 41: val_loss did not improve from 0.05536\n",
      "400/400 [==============================] - 32s 79ms/step - loss: 0.0600 - mse: 0.0589 - val_loss: 0.0567 - val_mse: 0.0557\n",
      "Epoch 42/50\n",
      "400/400 [==============================] - ETA: 0s - loss: 0.0598 - mse: 0.0588\n",
      "Epoch 42: val_loss did not improve from 0.05536\n",
      "400/400 [==============================] - 32s 79ms/step - loss: 0.0598 - mse: 0.0588 - val_loss: 0.0563 - val_mse: 0.0552\n",
      "Epoch 43/50\n",
      "400/400 [==============================] - ETA: 0s - loss: 0.0600 - mse: 0.0589\n",
      "Epoch 43: val_loss did not improve from 0.05536\n",
      "400/400 [==============================] - 31s 79ms/step - loss: 0.0600 - mse: 0.0589 - val_loss: 0.0566 - val_mse: 0.0555\n",
      "Epoch 44/50\n",
      "400/400 [==============================] - ETA: 0s - loss: 0.0597 - mse: 0.0587\n",
      "Epoch 44: val_loss did not improve from 0.05536\n",
      "400/400 [==============================] - 31s 78ms/step - loss: 0.0597 - mse: 0.0587 - val_loss: 0.0558 - val_mse: 0.0548\n",
      "Epoch 45/50\n",
      "400/400 [==============================] - ETA: 0s - loss: 0.0600 - mse: 0.0590\n",
      "Epoch 45: val_loss did not improve from 0.05536\n",
      "400/400 [==============================] - 31s 79ms/step - loss: 0.0600 - mse: 0.0590 - val_loss: 0.0567 - val_mse: 0.0557\n",
      "Epoch 46/50\n",
      "400/400 [==============================] - ETA: 0s - loss: 0.0597 - mse: 0.0586\n",
      "Epoch 46: val_loss did not improve from 0.05536\n",
      "400/400 [==============================] - 33s 83ms/step - loss: 0.0597 - mse: 0.0586 - val_loss: 0.0587 - val_mse: 0.0576\n",
      "Epoch 47/50\n",
      "400/400 [==============================] - ETA: 0s - loss: 0.0599 - mse: 0.0588\n",
      "Epoch 47: val_loss did not improve from 0.05536\n",
      "400/400 [==============================] - 38s 95ms/step - loss: 0.0599 - mse: 0.0588 - val_loss: 0.0555 - val_mse: 0.0545\n",
      "Epoch 48/50\n",
      "400/400 [==============================] - ETA: 0s - loss: 0.0599 - mse: 0.0588\n",
      "Epoch 48: val_loss did not improve from 0.05536\n",
      "400/400 [==============================] - 35s 88ms/step - loss: 0.0599 - mse: 0.0588 - val_loss: 0.0555 - val_mse: 0.0545\n",
      "Epoch 49/50\n",
      "400/400 [==============================] - ETA: 0s - loss: 0.0599 - mse: 0.0588\n",
      "Epoch 49: val_loss did not improve from 0.05536\n",
      "400/400 [==============================] - 33s 83ms/step - loss: 0.0599 - mse: 0.0588 - val_loss: 0.0572 - val_mse: 0.0561\n",
      "Epoch 50/50\n",
      "400/400 [==============================] - ETA: 0s - loss: 0.0598 - mse: 0.0587\n",
      "Epoch 50: val_loss improved from 0.05536 to 0.05530, saving model to best_model_window1.h5\n",
      "400/400 [==============================] - 36s 89ms/step - loss: 0.0598 - mse: 0.0587 - val_loss: 0.0553 - val_mse: 0.0543\n"
     ]
    }
   ],
   "source": [
    "# from sklearn.model_selection import KFold\n",
    "\n",
    "# kf = KFold(n_splits=1, shuffle=True, random_state=42)\n",
    "# for train_index, val_index in kf.split(X_train_LSTM):\n",
    "X_train_L, X_val_L, y_train_L, y_val_L = train_test_split(X_train_LSTM,y_train_LSTM, test_size=0.2, random_state=42)\n",
    "    \n",
    "model = create_model()\n",
    "history = model.fit(X_train_L, y_train_L, epochs=50, batch_size=32, validation_data= (X_val_L, y_val_L), callbacks=[checkpoint, early_stopping], shuffle= True)"
   ]
  },
  {
   "cell_type": "code",
   "execution_count": 23,
   "metadata": {},
   "outputs": [],
   "source": [
    "# Train the model with the callbacks\n",
    "# history = model.fit(X_train_LSTM, y_train_LSTM, epochs=500, batch_size=10, validation_data=(X_val_LSTM,y_val_LSTM),callbacks=[checkpoint, early_stopping],shuffle=True)"
   ]
  },
  {
   "cell_type": "code",
   "execution_count": 24,
   "metadata": {},
   "outputs": [
    {
     "data": {
      "image/png": "[encoded data removed]",
      "text/plain": [
       "<Figure size 640x480 with 1 Axes>"
      ]
     },
     "metadata": {},
     "output_type": "display_data"
    }
   ],
   "source": [
    "# Plot training and validation loss\n",
    "import matplotlib.pyplot as plt\n",
    "plt.figure()\n",
    "plt.plot(history.history['loss'], label='Training Loss')\n",
    "plt.plot(history.history['val_loss'], label='Validation Loss')\n",
    "plt.title('Training and Validation Loss')\n",
    "plt.xlabel('Epochs')\n",
    "plt.ylabel('Loss')\n",
    "plt.legend()\n",
    "# plt.ylim([0,0.08])\n",
    "plt.savefig(\"Training_Val_loss_sliding_window.jpg\")\n",
    "plt.show()"
   ]
  },
  {
   "cell_type": "code",
   "execution_count": 25,
   "metadata": {},
   "outputs": [
    {
     "data": {
      "text/plain": [
       "(4000, 100)"
      ]
     },
     "execution_count": 25,
     "metadata": {},
     "output_type": "execute_result"
    }
   ],
   "source": [
    "X_test_LSTM.shape"
   ]
  },
  {
   "cell_type": "code",
   "execution_count": 26,
   "metadata": {},
   "outputs": [],
   "source": [
    "from tensorflow.keras.models import load_model"
   ]
  },
  {
   "cell_type": "code",
   "execution_count": 27,
   "metadata": {},
   "outputs": [],
   "source": [
    "model= load_model(\"best_model_window1.h5\")"
   ]
  },
  {
   "cell_type": "code",
   "execution_count": 28,
   "metadata": {},
   "outputs": [],
   "source": [
    "X_test_LSTM = X_test_LSTM.reshape((X_test_LSTM.shape[0], X_test_LSTM.shape[1], 1))"
   ]
  },
  {
   "cell_type": "code",
   "execution_count": 29,
   "metadata": {},
   "outputs": [
    {
     "data": {
      "text/plain": [
       "(4000, 100, 1)"
      ]
     },
     "execution_count": 29,
     "metadata": {},
     "output_type": "execute_result"
    }
   ],
   "source": [
    "X_test_LSTM.shape"
   ]
  },
  {
   "cell_type": "code",
   "execution_count": 30,
   "metadata": {},
   "outputs": [
    {
     "data": {
      "text/plain": [
       "(4000, 1)"
      ]
     },
     "execution_count": 30,
     "metadata": {},
     "output_type": "execute_result"
    }
   ],
   "source": [
    "y_test_LSTM.shape"
   ]
  },
  {
   "cell_type": "code",
   "execution_count": 31,
   "metadata": {},
   "outputs": [
    {
     "data": {
      "text/plain": [
       "(16000, 100, 1)"
      ]
     },
     "execution_count": 31,
     "metadata": {},
     "output_type": "execute_result"
    }
   ],
   "source": [
    "X_train_LSTM.shape"
   ]
  },
  {
   "cell_type": "code",
   "execution_count": 32,
   "metadata": {},
   "outputs": [
    {
     "data": {
      "text/plain": [
       "(16000, 1)"
      ]
     },
     "execution_count": 32,
     "metadata": {},
     "output_type": "execute_result"
    }
   ],
   "source": [
    "y_train_LSTM.shape"
   ]
  },
  {
   "cell_type": "code",
   "execution_count": 33,
   "metadata": {},
   "outputs": [
    {
     "name": "stdout",
     "output_type": "stream",
     "text": [
      "125/125 [==============================] - 3s 19ms/step - loss: 0.0828 - mse: 0.0818\n",
      "125/125 [==============================] - 3s 18ms/step\n"
     ]
    }
   ],
   "source": [
    "# Evaluate the model\n",
    "test_loss = model.evaluate(X_test_LSTM, y_test_LSTM)\n",
    "\n",
    "# Make predictions\n",
    "y_pred = model.predict(X_test_LSTM)\n",
    "y_pred_reshaped = y_pred.reshape(y_pred.shape[0], y_pred.shape[1])\n",
    "\n",
    "\n",
    "# Inverse transform predictions to original scale\n",
    "y_pred_inverse = scaler_y.inverse_transform(y_pred_reshaped)\n",
    "y_test_inverse = scaler_y.inverse_transform(y_test_LSTM)"
   ]
  },
  {
   "cell_type": "code",
   "execution_count": 34,
   "metadata": {},
   "outputs": [
    {
     "data": {
      "text/plain": [
       "(4000, 100, 1)"
      ]
     },
     "execution_count": 34,
     "metadata": {},
     "output_type": "execute_result"
    }
   ],
   "source": [
    "y_pred.shape"
   ]
  },
  {
   "cell_type": "code",
   "execution_count": 35,
   "metadata": {},
   "outputs": [
    {
     "data": {
      "text/plain": [
       "(4000, 100)"
      ]
     },
     "execution_count": 35,
     "metadata": {},
     "output_type": "execute_result"
    }
   ],
   "source": [
    "y_pred_inverse.shape"
   ]
  },
  {
   "cell_type": "code",
   "execution_count": 36,
   "metadata": {},
   "outputs": [],
   "source": [
    "ypred_inv = y_pred_inverse.flatten()\n",
    "ytest_inv = y_test_inverse.flatten()"
   ]
  },
  {
   "cell_type": "code",
   "execution_count": 37,
   "metadata": {},
   "outputs": [
    {
     "data": {
      "image/png": "[encoded data removed]",
      "text/plain": [
       "<Figure size 640x480 with 1 Axes>"
      ]
     },
     "metadata": {},
     "output_type": "display_data"
    }
   ],
   "source": [
    "# Visualize results\n",
    "plt.figure()\n",
    "plt.plot(ytest_inv[0:50], label='True Displacement')\n",
    "plt.plot(ypred_inv[0:50], label='Predicted Displacement')\n",
    "# plt.plot(y_test[1], label= \"True True\")\n",
    "plt.title('Displacement Prediction')\n",
    "plt.legend()\n",
    "\n",
    "plt.savefig(\"TruedispVsPredictedDisp.jpg\")\n",
    "plt.show()"
   ]
  },
  {
   "cell_type": "code",
   "execution_count": 161,
   "metadata": {},
   "outputs": [
    {
     "data": {
      "image/png": "[encoded data removed]",
      "text/plain": [
       "<Figure size 640x480 with 1 Axes>"
      ]
     },
     "metadata": {},
     "output_type": "display_data"
    }
   ],
   "source": [
    "\"\"\"\"\n",
    "The very first time I reached here, I dont know why I cannot tune hyperparameters to achive this.\n",
    "\"\"\"\n",
    "\n",
    "\n",
    "\n",
    "plt.figure()\n",
    "plt.plot(disp_test_inv, label='True Displacement')\n",
    "plt.plot(y_pred_inv, label='Predicted Displacement')\n",
    "plt.title('Displacement Prediction')\n",
    "plt.legend()\n",
    "\n",
    "plt.savefig(\"TruedispVsPredictedDispTest.jpg\")\n",
    "plt.show()"
   ]
  },
  {
   "cell_type": "code",
   "execution_count": null,
   "metadata": {},
   "outputs": [],
   "source": []
  }
 ],
 "metadata": {
  "kernelspec": {
   "display_name": "Python 3",
   "language": "python",
   "name": "python3"
  },
  "language_info": {
   "codemirror_mode": {
    "name": "ipython",
    "version": 3
   },
   "file_extension": ".py",
   "mimetype": "text/x-python",
   "name": "python",
   "nbconvert_exporter": "python",
   "pygments_lexer": "ipython3",
   "version": "3.9.13"
  }
 },
 "nbformat": 4,
 "nbformat_minor": 2
}
